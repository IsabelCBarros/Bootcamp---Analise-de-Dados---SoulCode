{
  "nbformat": 4,
  "nbformat_minor": 0,
  "metadata": {
    "colab": {
      "provenance": [],
      "include_colab_link": true
    },
    "kernelspec": {
      "name": "python3",
      "display_name": "Python 3"
    },
    "language_info": {
      "name": "python"
    }
  },
  "cells": [
    {
      "cell_type": "markdown",
      "metadata": {
        "id": "view-in-github",
        "colab_type": "text"
      },
      "source": [
        "<a href=\"https://colab.research.google.com/github/IsabelCBarros/Python---Bootcamp---Analise-de-Dados---SoulCode/blob/main/Projeto_Fundamentos_de_Python.ipynb\" target=\"_parent\"><img src=\"https://colab.research.google.com/assets/colab-badge.svg\" alt=\"Open In Colab\"/></a>"
      ]
    },
    {
      "cell_type": "markdown",
      "source": [
        "##**Projeto - Fundamentos de Python - Turma AD2**##\n",
        "Nome: Isabel Cristina de Barros\n",
        "\n",
        "\n",
        "---\n",
        "\n"
      ],
      "metadata": {
        "id": "cqgPv3alAZBN"
      }
    },
    {
      "cell_type": "markdown",
      "source": [
        "Este projeto tem como principal objetivo proporcionar ao estudante a verificação  das principais habilidades técnicas sobre fundamentos de Python aprendidas na quarta semana do Bootcamp de análise de dados na turma AD2.      \n",
        "A proposta alia conceitos fundamentais de Python com o tema da primeira semana do Bootcamp (análise exploratória de dados).\n",
        "\n",
        "Neste projeto o estudante deverá individualmente construir um script em Python que receba do usuário duas variáveis de valores referentes a variáveis quantitativas e devolva como resposta a seguintes medidas de estatística descritiva para cada variável informada:\n",
        "\n",
        "\n",
        "* Média aritmética;\n",
        "* Mediana;\n",
        "* Moda (se houver);\n",
        "* Variância amostral;\n",
        "* Desvio Padrão amostral;\n",
        "* Amplitude total;\n",
        "* Q1 (primeiro quartil);\n",
        "* Q3 (terceiro quartil);\n",
        "* AIQ (amplitude interquartílica);\n",
        "* Limite inferior (LI do boxplot);\n",
        "* Limite superior (LS do boxplot);\n",
        "* Identificação e classificação de possíveis outliers na amostra;\n",
        "* Coeficiente de Correlação de Pearson ( r );\n",
        "* Coeficiente de determinação ( r ao quadrado);\n",
        "* Coeficiente b ou beta da equação de regressão linear simples para as duas variáveis escolhidas pelo usuário;\n",
        "* Coeficiente a ou alpha da equação de regressão linear simples para as duas variáveis escolhidas pelo usuário;\n",
        "\n",
        "\n",
        "Requisitos obrigatórios:\n",
        "\n",
        "O programa deve conter todas as medidas de estatística descritiva solicitadas no bloco anterior;\n",
        "O Programa deve conter no mínimo as seguintes estruturas:\n",
        "\n",
        "1 - (if, elif e else),\n",
        "\n",
        "1 - (laço de repetição For)\n",
        "\n",
        "1 - (loop While);\n",
        "\n",
        "O programa não pode incorporar módulos e frameworks não estudados até o presente momento no bootcamp.\n"
      ],
      "metadata": {
        "id": "h9xqPjmjAkLh"
      }
    },
    {
      "cell_type": "markdown",
      "source": [
        "##**Entrada de Dados**##"
      ],
      "metadata": {
        "id": "xR2gJS9UisZj"
      }
    },
    {
      "cell_type": "code",
      "source": [
        "\n",
        "while True:\n",
        "    lista1 = input(\"Digite a primeira sequência de variáveis quantitativas, com números inteiros e separados por espaços: \")\n",
        "    lista2 = input(\"Digite a segunda sequência de variáveis quantitativas, com a mesma quantidade de números inteiros da primeira lista e separados por espaços: \")\n",
        "\n",
        "    lista1 = lista1.split()       # Assume o espaço em branco como o separador padrão.\n",
        "    lista2 = lista2.split()\n",
        "\n",
        "    if len(lista1) == len(lista2):\n",
        "        break\n",
        "    else:\n",
        "        print(\"As listas devem ter a mesma quantidade de variáveis quantitativas, com números inteiros e separados por espaço.\")\n",
        "\n",
        "for i in range(len(lista1)):  # Range(Len(lista1) no For: Percorra o intervalo (range) e para cada posição (Len) de uma lista (lista1), faça tal coisa (:)\n",
        "    lista1[i] = float(lista1[i])\n",
        "\n",
        "for i in range(len(lista2)):\n",
        "    lista2[i] = float(lista2[i])\n",
        "\n",
        "print(f'A primeira sequência de variáveis qualitativas digitadas foi:{lista1}')\n",
        "print(f'A segunda sequência de variáveis qualitativas digitadas foi:{lista2}')"
      ],
      "metadata": {
        "id": "-MmoqD2NMyYO",
        "colab": {
          "base_uri": "https://localhost:8080/"
        },
        "outputId": "79b45153-36da-46d8-9379-b9c3755a98e8"
      },
      "execution_count": 1,
      "outputs": [
        {
          "output_type": "stream",
          "name": "stdout",
          "text": [
            "Digite a primeira sequência de variáveis quantitativas, com números inteiros e separados por espaços: 1 2 3 4 5\n",
            "Digite a segunda sequência de variáveis quantitativas, com a mesma quantidade de números inteiros da primeira lista e separados por espaços: 1 2 4 5 8\n",
            "A primeira sequência de variáveis qualitativas digitadas foi:[1.0, 2.0, 3.0, 4.0, 5.0]\n",
            "A segunda sequência de variáveis qualitativas digitadas foi:[1.0, 2.0, 4.0, 5.0, 8.0]\n"
          ]
        }
      ]
    },
    {
      "cell_type": "markdown",
      "source": [
        "##**Média**##\n",
        "Calculada somando todos os elementos da lista e dividindo pelo número total de elementos."
      ],
      "metadata": {
        "id": "-m8to3F4hlpT"
      }
    },
    {
      "cell_type": "code",
      "source": [
        "média1 = sum(lista1) / len(lista1)\n",
        "média2 = sum(lista2) / len(lista2)\n",
        "print(f'A média da primeira sequência de variáveis qualitativas digitadas é: {média1: }')\n",
        "print(f'A média da segunda sequência de variáveis qualitativas digitadas é: {média2: }')"
      ],
      "metadata": {
        "id": "49hq3HR3hisU",
        "colab": {
          "base_uri": "https://localhost:8080/"
        },
        "outputId": "503bba35-815d-4591-9d1a-9ebcd9464f85"
      },
      "execution_count": 2,
      "outputs": [
        {
          "output_type": "stream",
          "name": "stdout",
          "text": [
            "A média da primeira sequência de variáveis qualitativas digitadas é:  3.0\n",
            "A média da segunda sequência de variáveis qualitativas digitadas é:  4.0\n"
          ]
        }
      ]
    },
    {
      "cell_type": "markdown",
      "source": [
        "##**Mediana**##\n",
        "A mediana é o valor que divide a lista ao meio quando ordenada em ordem crescente."
      ],
      "metadata": {
        "id": "R6GtBBD5ipDl"
      }
    },
    {
      "cell_type": "code",
      "source": [
        "lista1.sort()  # ordena a lista em ordem crescente\n",
        "lista2.sort()\n",
        "\n",
        "l1 = len(lista1)      # para verificar se as variáveis são par ou ímpar\n",
        "l2 = len(lista2)\n",
        "\n",
        "if l1 % 2 == 0:\n",
        "   mediana1 = lista1[l1 // 2]\n",
        "else:\n",
        "   mediana1 = (lista1[l1 // 2 - 1] + lista1[l1 // 2]) / 2\n",
        "print(f'A mediana da primeira sequência de variáveis quantitativas digitadas é: {mediana1: }')\n",
        "\n",
        "if l2 % 2 == 0:\n",
        "   mediana2 = lista2[l2 // 2]\n",
        "else:\n",
        "   mediana2 = (lista2[l2 // 2 - 1] + lista2[l2 // 2]) / 2\n",
        "print(f'A mediana da segunda sequência de variáveis quantitativas digitadas é: {mediana2: }')"
      ],
      "metadata": {
        "id": "zTMTnJ9Zh-i9",
        "colab": {
          "base_uri": "https://localhost:8080/"
        },
        "outputId": "d9101500-05b8-4d4b-e3de-c53a1ba55b72"
      },
      "execution_count": 3,
      "outputs": [
        {
          "output_type": "stream",
          "name": "stdout",
          "text": [
            "A mediana da primeira sequência de variáveis quantitativas digitadas é:  2.5\n",
            "A mediana da segunda sequência de variáveis quantitativas digitadas é:  3.0\n"
          ]
        }
      ]
    },
    {
      "cell_type": "markdown",
      "source": [
        "##**Moda (se houver)**##\n",
        "A moda é o valor mais frequente na lista."
      ],
      "metadata": {
        "id": "IchhMxoPw4xG"
      }
    },
    {
      "cell_type": "code",
      "source": [
        "maior_frequencia = 0  # variável usada para acompanhar a maior frequência\n",
        "moda1 = -1            # variável usada para acompanhar a maior frequência\n",
        "\n",
        "for i in range(len(lista1)): # acessa cada elemento individualmente\n",
        "    frequencia = lista1.count(lista1[i])  # retorna o número de variáveis na lista\n",
        "\n",
        "    if frequencia > maior_frequencia:  #Verifica se a frequencia atual é maior do que a maior_frequencia registrada até o momento\n",
        "        maior_frequencia = frequencia  #Se for, a maior_frequencia é atualizada e a moda1 recebe o valor correspondente\n",
        "        moda1 = lista1[i]\n",
        "\n",
        "if moda1 != -1:  #verifica se a moda1 é diferente de -1.\n",
        "    print(f'O valor da moda encontrado na primeira sequência de variáveis qualitativas digitadas é: {moda1}')\n",
        "else:\n",
        "    print('Não foi encontrado valor de moda na primeira sequência de variáveis qualitativas digitadas.')\n",
        "\n",
        "maior_frequencia = 0\n",
        "moda2 = -1\n",
        "\n",
        "for i in range(len(lista2)):\n",
        "    frequencia = lista2.count(lista2[i])\n",
        "\n",
        "    if frequencia > maior_frequencia:\n",
        "        maior_frequencia = frequencia\n",
        "        moda2 = lista2[i]\n",
        "\n",
        "if moda2 != -1:\n",
        "    print(f'O valor da moda encontrado na segunda sequência de variáveis qualitativas digitadas é: {moda2}')\n",
        "else:\n",
        "    print('Não foi encontrado valor de moda na segunda sequência de variáveis qualitativas digitadas.')"
      ],
      "metadata": {
        "id": "lJ-whm1ydiJI",
        "colab": {
          "base_uri": "https://localhost:8080/"
        },
        "outputId": "5c44fa05-1bda-4ce5-d372-24eb5b14870f"
      },
      "execution_count": 4,
      "outputs": [
        {
          "output_type": "stream",
          "name": "stdout",
          "text": [
            "O valor da moda encontrado na primeira sequência de variáveis qualitativas digitadas é: 1.0\n",
            "O valor da moda encontrado na segunda sequência de variáveis qualitativas digitadas é: 1.0\n"
          ]
        }
      ]
    },
    {
      "cell_type": "markdown",
      "source": [
        "##**Variância Amostral**##\n",
        "A variância amostral mede a dispersão dos valores em relação à média."
      ],
      "metadata": {
        "id": "muljjTwFw9UX"
      }
    },
    {
      "cell_type": "code",
      "source": [
        "variancia1 = 0\n",
        "\n",
        "for i in range(len(lista1)):\n",
        "    variancia1 += (lista1[i] - média1) ** 2 / len(lista1)\n",
        "print(f'A variância amostral da primeira sequência de variáveis quantitativas digitadas é: {variancia1}')\n",
        "\n",
        "variancia2 = 0\n",
        "\n",
        "for i in range(len(lista2)):\n",
        "    variancia2 += (lista2[i] - média2) ** 2 / len(lista2)\n",
        "print(f'A variância amostral da segunda sequência de variáveis quantitativas digitadas é: {variancia2}')\n"
      ],
      "metadata": {
        "id": "0V2rCsNvwjC2",
        "colab": {
          "base_uri": "https://localhost:8080/"
        },
        "outputId": "1ced70e6-4261-4728-e568-4fd5ad7b7b1a"
      },
      "execution_count": 5,
      "outputs": [
        {
          "output_type": "stream",
          "name": "stdout",
          "text": [
            "A variância amostral da primeira sequência de variáveis quantitativas digitadas é: 2.0\n",
            "A variância amostral da segunda sequência de variáveis quantitativas digitadas é: 6.0\n"
          ]
        }
      ]
    },
    {
      "cell_type": "markdown",
      "source": [
        "##**Desvio Padrão Amostral**##\n",
        "O desvio padrão amostral é a raiz quadrada da variância amostral e indica o quanto os valores se desviam da média."
      ],
      "metadata": {
        "id": "z8eh2W4f3URa"
      }
    },
    {
      "cell_type": "code",
      "source": [
        "desvio_padrão1 = variancia1 ** 0.5  # 0.5 = \"metade do quadrado\" do número original\n",
        "print(f'O Desvio Padrão Amostral da primeira sequência de variáveis quantitativas digitadas é: {desvio_padrão1:.2f}')\n",
        "\n",
        "desvio_padrão2 = variancia2 ** 0.5\n",
        "print(f'O Desvio Padrão Amostral da segunda sequência de variáveis quantitativas digitadas é: {desvio_padrão2:.2f}')"
      ],
      "metadata": {
        "id": "0rqWKyk83ovK",
        "colab": {
          "base_uri": "https://localhost:8080/"
        },
        "outputId": "919a67dd-747d-4ef1-cc76-9d21ff70272a"
      },
      "execution_count": 6,
      "outputs": [
        {
          "output_type": "stream",
          "name": "stdout",
          "text": [
            "O Desvio Padrão Amostral da primeira sequência de variáveis quantitativas digitadas é: 1.41\n",
            "O Desvio Padrão Amostral da segunda sequência de variáveis quantitativas digitadas é: 2.45\n"
          ]
        }
      ]
    },
    {
      "cell_type": "markdown",
      "source": [
        "##**Amplitude Total**##\n",
        "A amplitude total é a diferença entre o maior e o menor valor da lista."
      ],
      "metadata": {
        "id": "dgncT0uD8ZHs"
      }
    },
    {
      "cell_type": "code",
      "source": [
        "amplitude_total1 = max(lista1) - min(lista1)\n",
        "print(f'A amplitude total da primeira sequência de variáveis quantitativas digitadas é: {amplitude_total1}')\n",
        "\n",
        "amplitude_total2 = max(lista2) - min(lista2)\n",
        "print(f'A amplitude total da segunda sequência de variáveis quantitativas digitadas é: {amplitude_total2}')\n",
        "\n"
      ],
      "metadata": {
        "id": "25Bnb3Doz06e",
        "colab": {
          "base_uri": "https://localhost:8080/"
        },
        "outputId": "e1119d95-c769-42fe-c0ec-90d14bd3a8df"
      },
      "execution_count": 7,
      "outputs": [
        {
          "output_type": "stream",
          "name": "stdout",
          "text": [
            "A amplitude total da primeira sequência de variáveis quantitativas digitadas é: 4.0\n",
            "A amplitude total da segunda sequência de variáveis quantitativas digitadas é: 7.0\n"
          ]
        }
      ]
    },
    {
      "cell_type": "markdown",
      "source": [
        "##**Q1 (primeiro quartil)**##\n",
        "O primeiro quartil é o valor que divide os dados em 25% inferiores e 75% superiores quando ordenados."
      ],
      "metadata": {
        "id": "FullXM-L9gF9"
      }
    },
    {
      "cell_type": "code",
      "source": [
        "quartil1_1 = int(len(lista1) * 0.25)\n",
        "Q1_1 = lista1[quartil1_1]\n",
        "print(f'O Q1 (primeiro quartil) da primeira sequência de variáveis quantitativas digitadas é: {Q1_1}')\n",
        "\n",
        "quartil1_2 = int(len(lista2) * 0.25)\n",
        "Q1_2 = lista2[quartil1_2]\n",
        "print(f'O Q1 (primeiro quartil) da segunda sequência de variáveis quantitativas digitadas é: {Q1_2}')\n"
      ],
      "metadata": {
        "id": "8Y024uIVJYgp",
        "colab": {
          "base_uri": "https://localhost:8080/"
        },
        "outputId": "b4a9fad2-76b7-4e03-b853-b3482e555ba9"
      },
      "execution_count": 8,
      "outputs": [
        {
          "output_type": "stream",
          "name": "stdout",
          "text": [
            "O Q1 (primeiro quartil) da primeira sequência de variáveis quantitativas digitadas é: 2.0\n",
            "O Q1 (primeiro quartil) da segunda sequência de variáveis quantitativas digitadas é: 2.0\n"
          ]
        }
      ]
    },
    {
      "cell_type": "markdown",
      "source": [
        "##**Q3 (terceiro quartil)**##\n",
        "O terceiro quartil é o valor que divide os dados em 75% inferiores e 25% superiores quando ordenados."
      ],
      "metadata": {
        "id": "gWASAA2WPzxO"
      }
    },
    {
      "cell_type": "code",
      "source": [
        "quartil3_1 = int(len(lista1) * 0.75)\n",
        "Q3_1 = lista1[quartil3_1]\n",
        "print(f'O Q3 (terceiro quartil) da primeira sequência de variáveis quantitativas digitadas é: {Q3_1}')\n",
        "\n",
        "quartil3_2 = int(len(lista2) * 0.75)\n",
        "Q3_2 = lista2[quartil3_2]\n",
        "print(f'O Q3 (terceiro quartil) da segunda sequência de variáveis quantitativas digitadas é: {Q3_2}')\n"
      ],
      "metadata": {
        "id": "hLK1PN2oOAJd",
        "colab": {
          "base_uri": "https://localhost:8080/"
        },
        "outputId": "efdc8bdd-f1fd-4b85-80f8-133682beb588"
      },
      "execution_count": 9,
      "outputs": [
        {
          "output_type": "stream",
          "name": "stdout",
          "text": [
            "O Q3 (terceiro quartil) da primeira sequência de variáveis quantitativas digitadas é: 4.0\n",
            "O Q3 (terceiro quartil) da segunda sequência de variáveis quantitativas digitadas é: 5.0\n"
          ]
        }
      ]
    },
    {
      "cell_type": "markdown",
      "source": [
        "##**AIQ (amplitude interquartílica)**##\n",
        "A amplitude interquartílica é a diferença entre o terceiro quartil e o primeiro quartil."
      ],
      "metadata": {
        "id": "wavsHgv3Y_xs"
      }
    },
    {
      "cell_type": "code",
      "source": [
        "AmpInter1 = Q3_1 - Q1_1\n",
        "print(f'A amplitude interquartílica da primeira sequência de variáveis quantitativas digitadas é: {AmpInter1}')\n",
        "\n",
        "AmpInter2 = Q3_2 - Q1_2\n",
        "print(f'A amplitude interquartílica da segunda sequência de variáveis quantitativas digitadas é: {AmpInter2}')\n"
      ],
      "metadata": {
        "id": "uN45zI80ZDCl",
        "colab": {
          "base_uri": "https://localhost:8080/"
        },
        "outputId": "4bc69614-e386-456c-c452-35651078cb60"
      },
      "execution_count": 10,
      "outputs": [
        {
          "output_type": "stream",
          "name": "stdout",
          "text": [
            "A amplitude interquartílica da primeira sequência de variáveis quantitativas digitadas é: 2.0\n",
            "A amplitude interquartílica da segunda sequência de variáveis quantitativas digitadas é: 3.0\n"
          ]
        }
      ]
    },
    {
      "cell_type": "markdown",
      "source": [
        "##**Limite Inferior (LI do boxplot)**##\n",
        "O limite inferior do boxplot é o valor abaixo do qual qualquer valor é considerado um outlier, (menor valor do conjunto de dados que não sejam outliers)."
      ],
      "metadata": {
        "id": "mXBN_jE0SIhT"
      }
    },
    {
      "cell_type": "code",
      "source": [
        "LimiteINF1 = Q1_1 - 1.5 * AmpInter1\n",
        "print(f'O LI do boxplot da primeira sequência de variáveis quantitativas digitadas é: {LimiteINF1}')\n",
        "\n",
        "LimiteINF2 = Q1_2 - 1.5 * AmpInter2\n",
        "print(f'O LI do boxplot da segunda sequência de variáveis quantitativas digitadas é: {LimiteINF2}')"
      ],
      "metadata": {
        "id": "VcRHnUL4QlXz",
        "colab": {
          "base_uri": "https://localhost:8080/"
        },
        "outputId": "b81f5d9f-8dd1-401a-856f-b759ab605b6e"
      },
      "execution_count": 11,
      "outputs": [
        {
          "output_type": "stream",
          "name": "stdout",
          "text": [
            "O LI do boxplot da primeira sequência de variáveis quantitativas digitadas é: -1.0\n",
            "O LI do boxplot da segunda sequência de variáveis quantitativas digitadas é: -2.5\n"
          ]
        }
      ]
    },
    {
      "cell_type": "markdown",
      "source": [
        "##**Limite Superior (LS do boxplot)**##\n",
        "O limite superior do boxplot é o valor acima do qual qualquer valor é considerado um outlier, (maior valor do conjunto de dados que não sejam outliers)."
      ],
      "metadata": {
        "id": "iMDew1x9Y1oM"
      }
    },
    {
      "cell_type": "code",
      "source": [
        "LimiteSUP1 = Q3_1 + 1.5 * AmpInter1\n",
        "print(f'O LS do boxplot da primeira sequência de variáveis quantitativas digitadas é: {LimiteSUP1}')\n",
        "\n",
        "LimiteSUP2 = Q3_2 + 1.5 * AmpInter2\n",
        "print(f'O LS do boxplot da segunda sequência de variáveis quantitativas digitadas é: {LimiteSUP2}')"
      ],
      "metadata": {
        "id": "lFGx6P6UTmQw",
        "colab": {
          "base_uri": "https://localhost:8080/"
        },
        "outputId": "a7531486-256e-4032-e9f2-9e9c96a7a297"
      },
      "execution_count": 12,
      "outputs": [
        {
          "output_type": "stream",
          "name": "stdout",
          "text": [
            "O LS do boxplot da primeira sequência de variáveis quantitativas digitadas é: 7.0\n",
            "O LS do boxplot da segunda sequência de variáveis quantitativas digitadas é: 9.5\n"
          ]
        }
      ]
    },
    {
      "cell_type": "markdown",
      "source": [
        "##**Identificação e Classificação de Possíveis Outliers na Amostra**##\n",
        "Podem ser identificados como valores que estão abaixo do limite inferior (LI) ou acima do limite superior (LS) do boxplot.\n"
      ],
      "metadata": {
        "id": "sP1PNfcxarly"
      }
    },
    {
      "cell_type": "code",
      "source": [
        "outlista1 = []\n",
        "outlista2 = []\n",
        "\n",
        "for i in range(len(lista1)):\n",
        "    if lista1[i] < LimiteINF1 or lista1[i] > LimiteSUP1:\n",
        "        outlista1.append(lista1[i])  # adiciona o valor fora dos limites, (caso encontrado) na lista vazia.\n",
        "\n",
        "if outlista1:\n",
        "    print(f'Outliers encontrados na primeira sequência de variáveis quantitativas digitadas: {outlista1}. O limite inferior é: {LimiteINF1}, e o limite superior é: {LimiteSUP1}')\n",
        "else:\n",
        "    print('Não foram encontrados outliers na primeira sequência de variáveis quantitativas digitadas.')\n",
        "\n",
        "for i in range(len(lista2)):\n",
        "    if lista2[i] < LimiteINF2 or lista2[i] > LimiteSUP2:\n",
        "        outlista2.append(lista2[i])\n",
        "\n",
        "if outlista2:\n",
        "    print(f'Outliers encontrados na segunda sequência de variáveis quantitativas digitadas: {outlista2}. O limite inferior é: {LimiteINF2}, e o limite superior é: {LimiteSUP2}')\n",
        "else:\n",
        "    print('Não foram encontrados outliers na segunda lista de variáveis quantitativas digitadas.')"
      ],
      "metadata": {
        "id": "sdJcyBykaRXN",
        "colab": {
          "base_uri": "https://localhost:8080/"
        },
        "outputId": "b08ed002-e813-43c7-e293-0cf612e96b8a"
      },
      "execution_count": 13,
      "outputs": [
        {
          "output_type": "stream",
          "name": "stdout",
          "text": [
            "Não foram encontrados outliers na primeira sequência de variáveis quantitativas digitadas.\n",
            "Não foram encontrados outliers na segunda lista de variáveis quantitativas digitadas.\n"
          ]
        }
      ]
    },
    {
      "cell_type": "markdown",
      "source": [
        "##**Coeficiente de Correlação de Pearson ( r )**##\n",
        "O coeficiente de correlação de Pearson é uma medida da força e da direção da relação linear entre duas variáveis. O valor varia de -1 a 1, onde -1 indica uma correlação negativa perfeita, 0 indica nenhuma correlação e 1 indica uma correlação positiva perfeita."
      ],
      "metadata": {
        "id": "dC3kvP71hGJ1"
      }
    },
    {
      "cell_type": "code",
      "source": [
        "somatoriolista1 = sum(lista1)\n",
        "somatoriolista2 = sum(lista2)\n",
        "somatoriolista1xx = 0\n",
        "somatoriolista2xx = 0\n",
        "lista1_lista2 = 0\n",
        "\n",
        "for i in range(len(lista1)):\n",
        "    somatoriolista1xx = somatoriolista1xx + (lista1[i]**2)\n",
        "\n",
        "for i in range(len(lista2)):\n",
        "    somatoriolista2xx = somatoriolista2xx + (lista2[i]**2)\n",
        "\n",
        "for i in range(len(lista1)):\n",
        "   lista1_lista2 = lista1_lista2 + (lista1[i] * lista2[i])\n",
        "\n",
        "r = (lista1_lista2 - (somatoriolista1 * somatoriolista2 / len(lista1))) / ((somatoriolista1xx - ((somatoriolista1 **2) / len(lista1))) * (somatoriolista2xx - ((somatoriolista2 **2) / len(lista1)))) ** 0.5\n",
        "print(f'O coeficiente de correlação de Pearson para as duas sequências de variáveis quantitativas digitadas é: {r:.2}')"
      ],
      "metadata": {
        "id": "HPYq3LxmdS9z",
        "colab": {
          "base_uri": "https://localhost:8080/"
        },
        "outputId": "1ee36ee8-dd5b-4985-c307-d5dff85b3e5d"
      },
      "execution_count": 14,
      "outputs": [
        {
          "output_type": "stream",
          "name": "stdout",
          "text": [
            "O coeficiente de correlação de Pearson para as duas sequências de variáveis quantitativas digitadas é: 0.98\n"
          ]
        }
      ]
    },
    {
      "cell_type": "markdown",
      "source": [
        "##**Coeficiente de determinação ( r ao quadrado)**##\n",
        "Quantificar a proporção da variação de uma variável que pode ser explicada por outra variável em um modelo de regressão. Ele varia de 0 a 1 e é geralmente expresso como um valor percentual (porcentagem da variação da variável resposta que é explicada por um modelo linear).\n",
        "\n",
        "Um valor de R2 igual a 1 indica que todas as variações em y são perfeitamente\n",
        "explicadas pelas variáveis independentes do modelo. Por outro lado, um valor de R2 igual a 0 indica que as variáveis independentes não explicam nenhuma variação na variável dependente.\n"
      ],
      "metadata": {
        "id": "pytl7JtFhUs2"
      }
    },
    {
      "cell_type": "code",
      "source": [
        " r2 = r**2\n",
        " print(f'O coeficiente de determinação (r2) para as duas sequências de variáveis quantitativas digitadas é: {r2:.2f}')"
      ],
      "metadata": {
        "id": "7irFbfx1yW1T",
        "colab": {
          "base_uri": "https://localhost:8080/"
        },
        "outputId": "2b3331ac-c908-4dd5-eb85-fb5045e6025f"
      },
      "execution_count": 15,
      "outputs": [
        {
          "output_type": "stream",
          "name": "stdout",
          "text": [
            "O coeficiente de determinação (r2) para as duas sequências de variáveis quantitativas digitadas é: 0.96\n"
          ]
        }
      ]
    },
    {
      "cell_type": "markdown",
      "source": [
        "##**Coeficiente b ou beta da equação de regressão linear simples para as duas variáveis escolhidas pelo usuário**##\n",
        "Representa o coeficiente de inclinação, que indica a direção e a magnitude da relação linear entre as variáveis escolhidas pelo usuário. Se (b) for positivo, isso significa que há uma relação positiva entre as variáveis escolhidas. Se negativo, indica uma relação negativa entre as variáveis escolhidas."
      ],
      "metadata": {
        "id": "Usn5JJROhf-L"
      }
    },
    {
      "cell_type": "code",
      "source": [
        "beta = (lista1_lista2 - (somatoriolista1 * somatoriolista2 / len(lista1))) / (somatoriolista1xx - (somatoriolista1 ** 2 / len(lista1)))\n",
        "print(f\"O Coeficiente beta para as duas sequências de variáveis quantitativas digitadas é: {beta}\")"
      ],
      "metadata": {
        "id": "8Rtxgs_ihmt0",
        "colab": {
          "base_uri": "https://localhost:8080/"
        },
        "outputId": "d3306c83-1ae2-42a9-9a9c-95d242c96667"
      },
      "execution_count": 16,
      "outputs": [
        {
          "output_type": "stream",
          "name": "stdout",
          "text": [
            "O Coeficiente beta para as duas sequências de variáveis quantitativas digitadas é: 1.7\n"
          ]
        }
      ]
    },
    {
      "cell_type": "markdown",
      "source": [
        "##**Coeficiente a ou alpha da equação de regressão linear simples para as duas variáveis escolhidas pelo usuário**##\n",
        " Representa o coeficiente de interceptação, que indica o valor esperado de y quando x é igual a zero (é o valor de y quando a variável independente não tem efeito sobre a variável dependente)."
      ],
      "metadata": {
        "id": "sECP9Q4OhatV"
      }
    },
    {
      "cell_type": "code",
      "source": [
        "alfa = média2 - (média1 * beta)\n",
        "print(f\"O Coeficiente alfa para as duas sequências de variáveis quantitativas digitadas é: {alfa}\")"
      ],
      "metadata": {
        "id": "1dZulcgwhfdC",
        "colab": {
          "base_uri": "https://localhost:8080/"
        },
        "outputId": "b38ccd1b-8551-41f7-a3ec-d7612d4705cf"
      },
      "execution_count": 17,
      "outputs": [
        {
          "output_type": "stream",
          "name": "stdout",
          "text": [
            "O Coeficiente alfa para as duas sequências de variáveis quantitativas digitadas é: -1.0999999999999996\n"
          ]
        }
      ]
    }
  ]
}